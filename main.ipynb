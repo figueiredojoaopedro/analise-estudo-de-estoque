{
 "cells": [
  {
   "cell_type": "code",
   "execution_count": null,
   "id": "7fde0987",
   "metadata": {},
   "outputs": [],
   "source": [
    "import pandas as pd\n",
    "\n",
    "# Importing the .feather file\n",
    "sao_paulo_traffic_jams = pd.read_feather('./dataSets/sp_traffic_jams.feather');\n",
    "\n",
    "print(sao_paulo_traffic_jams)\n",
    "\n",
    "# Export data to a .txt file for better readability\n",
    "\n",
    "sao_paulo_traffic_jams.to_csv('./dataSets/sp_traffic_jams.txt', sep='\\t', index=False) # tab separated\n",
    "print(\"Data exported to .txt file\")\n"
   ]
  }
 ],
 "metadata": {
  "kernelspec": {
   "display_name": "Python 3",
   "language": "python",
   "name": "python3"
  },
  "language_info": {
   "codemirror_mode": {
    "name": "ipython",
    "version": 3
   },
   "file_extension": ".py",
   "mimetype": "text/x-python",
   "name": "python",
   "nbconvert_exporter": "python",
   "pygments_lexer": "ipython3",
   "version": "3.12.1"
  }
 },
 "nbformat": 4,
 "nbformat_minor": 5
}
